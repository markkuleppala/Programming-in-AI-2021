{
 "cells": [
  {
   "cell_type": "markdown",
   "metadata": {},
   "source": [
    "# Diploma in Artificial Intelligence\n",
    "\n",
    "# AI Programming (April 2021), Session 6\n",
    "\n",
    "# Topic: Cross-validation techniques in machine learning"
   ]
  },
  {
   "cell_type": "markdown",
   "metadata": {},
   "source": [
    "Exercise 1. Program one of the mentioned cross-validation techniques youself. Choose one of the following: leave-one-out cross-validation, k-fold cross-validation"
   ]
  },
  {
   "cell_type": "code",
   "execution_count": 1,
   "metadata": {},
   "outputs": [
    {
     "name": "stdout",
     "output_type": "stream",
     "text": [
      "There are 1188 rows of data\n",
      "There are 9 columns of data\n"
     ]
    }
   ],
   "source": [
    "# Simple leave-one-out cross-validation implementation with Pandas DataFrames\n",
    "\n",
    "import numpy as np\n",
    "import pandas as pd\n",
    "\n",
    "# Read the health data into a Pandas DataFrame:\n",
    "health_data = pd.read_excel(\"THL_MyData2016_hackathon_dataset.xls\")\n",
    "\n",
    "# Print the size of the data:\n",
    "n_rows, n_cols = health_data.shape\n",
    "print(\"There are {0} rows of data\".format(n_rows))\n",
    "print(\"There are {0} columns of data\".format(n_cols))\n",
    "\n",
    "# Your solution here!\n"
   ]
  },
  {
   "cell_type": "markdown",
   "metadata": {},
   "source": [
    "Exercise 2. Search for a readily implemented method of dividing a data set into a training set and validation set. "
   ]
  },
  {
   "cell_type": "code",
   "execution_count": 2,
   "metadata": {},
   "outputs": [],
   "source": [
    "# Divide the data set into a training data and test data so that about 30 percent\n",
    "# end up with the test data set and 70 with the training data set.\n",
    "\n",
    "import numpy as np\n",
    "from sklearn.model_selection import train_test_split\n",
    "\n",
    "# Create an artificial data set, with a non-linear relationship between x and y.\n",
    "data_x = np.sort(5 * np.random.rand(100, 1), axis=0)\n",
    "data_y = np.sin(data_x) + 0.2 * np.random.rand(100,1) # some noise (uncertainty in measurements)\n",
    "data_y = data_y.ravel()\n",
    "\n",
    "# Your solution here\n"
   ]
  },
  {
   "cell_type": "markdown",
   "metadata": {},
   "source": [
    "Exercise 3. Implement 10-fold cross-validation repeated 20 times. You can use components from existing implementations."
   ]
  },
  {
   "cell_type": "code",
   "execution_count": 3,
   "metadata": {},
   "outputs": [],
   "source": [
    "# Your solution here\n",
    "\n"
   ]
  }
 ],
 "metadata": {
  "kernelspec": {
   "display_name": "Python 3",
   "language": "python",
   "name": "python3"
  },
  "language_info": {
   "codemirror_mode": {
    "name": "ipython",
    "version": 3
   },
   "file_extension": ".py",
   "mimetype": "text/x-python",
   "name": "python",
   "nbconvert_exporter": "python",
   "pygments_lexer": "ipython3",
   "version": "3.7.6"
  }
 },
 "nbformat": 4,
 "nbformat_minor": 2
}
