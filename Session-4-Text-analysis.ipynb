{
 "cells": [
  {
   "cell_type": "markdown",
   "metadata": {},
   "source": [
    "# Diploma in Artificial Intelligence\n",
    "\n",
    "# AI Programming (April 2021), Session 4\n",
    "\n",
    "# Topic: Text Analysis"
   ]
  },
  {
   "cell_type": "markdown",
   "metadata": {},
   "source": [
    "Plese run the next cell to import libraries needed in the exercise"
   ]
  },
  {
   "cell_type": "code",
   "execution_count": 1,
   "metadata": {},
   "outputs": [],
   "source": [
    "# Execute this code first to set up required libraries\n",
    "import matplotlib.pyplot as plt\n",
    "import numpy as np\n",
    "import string"
   ]
  },
  {
   "cell_type": "markdown",
   "metadata": {},
   "source": [
    "### Text as vectors"
   ]
  },
  {
   "cell_type": "markdown",
   "metadata": {},
   "source": [
    "In this exercise we perform basic text data analysis and convert text data to word vectors. Some questions that we will address are:  \n",
    "* What is the relative frequency of each letter? (Useful for e.g. recognizing the language)\n",
    "* What are the most frequent words in the document?\n",
    "* Which words appear close to each other? (Subject matter recognition, plagiarism detection)\n",
    "\n",
    "The given python-script in below will read in a text file. In addition, the script has a function to count the frequency (number of occurrences) of each word. As an example, a typical preprocessing will be demonstrated. All characters are processed as case-**insensitive** (meaning: capital 'A' equals 'a'), and punctuation is removed (in a quite rudimentary manner).\n",
    "\n",
    "Three sample text files are provided. Look at how the word frequency histogram changes according to text. The files contain the text of three classic novels/plays: \"The Picture of Dorian Gray\" by Oscar Wilde, \"Pride and Prejudice\" by Jane Austen, and \"Faust\" by Johann Wolfgang von Goethe (in German). Find more books from [Project Gutenberg](http://www.gutenberg.org/) and choose your favorite to be analyzed analysis. Later with installation of NLTK, the book library is substantially expanded.\n",
    "\n",
    "We will have following tasks:  \n",
    "1. Execute ready made script. Check outputs when while changing book index to 0, 1, 2 or 3. The number three will fail and you have to find why and fix the problem   \n",
    "2. Perform similar analysis as in the given scripts, but this time utilize scikit-learn functions.  \n",
    "3. Challenge task: Calculate Levenshtein distance of each word in Kalevala to official vocabulary at Kotus.  \n",
    "4. Challenge task: Calculate Levenshtein distance of Kalevala words to Finnish dialects, which dialect is closest to Kalevala and why?\n",
    "\n",
    "Links for challenge tasks:  \n",
    "[Kalevala](https://github.com/JaanaM/2016-nodl-ohjelmointi/blob/master/viikko10-Viikko10_170.RivitJoillaSana/kalevala.txt)  \n",
    "[Kotus](https://www.kielitoimistonsanakirja.fi/netmot.exe?motportal=80)  \n",
    "[Dialects](http://kaino.kotus.fi/sms/)  "
   ]
  },
  {
   "cell_type": "markdown",
   "metadata": {},
   "source": [
    "## Task 1 : Processing text intro/demo  \n",
    "Familiarize yourself with given scripts below and see how analysis performs with different languages (and books). "
   ]
  },
  {
   "cell_type": "code",
   "execution_count": 2,
   "metadata": {},
   "outputs": [
    {
     "name": "stdout",
     "output_type": "stream",
     "text": [
      "These texts are available:\n",
      "['doriangray.txt', 'prideandprejudice.txt', 'faust.txt', 'kalevala.txt']\n"
     ]
    }
   ],
   "source": [
    "def word_frequency(words):\n",
    "    # start with an empty dictionary d\n",
    "    # where words and their frequencies will be stored\n",
    "    d = {}\n",
    "    # go through the words, keep track of how many times each word occurs\n",
    "    for word in words:        \n",
    "        # increase word count\n",
    "        try:\n",
    "            d[word] += 1\n",
    "        except KeyError:\n",
    "            # word does not yet exist in dictionary, set count to 1\n",
    "            d[word] = 1\n",
    "    return d\n",
    "\n",
    "def get_corpus(filename):    \n",
    "    with open(filename, encoding=\"utf8\") as f:\n",
    "        # use lowercase representation of each word\n",
    "        # ('the' and 'The' are equal for our purposes)\n",
    "        # and remove punctuation (not part of word)\n",
    "        translation_table = dict.fromkeys(map(ord, '\"_?!,.-)(_$'), None)\n",
    "        return [word.lower() for line in f for word in line.translate(translation_table).split()]\n",
    "    \n",
    "texts = ['doriangray.txt', 'prideandprejudice.txt', 'faust.txt', 'kalevala.txt']\n",
    "print('These texts are available:')\n",
    "print(texts)"
   ]
  },
  {
   "cell_type": "markdown",
   "metadata": {},
   "source": [
    "Given the two helper functions above do following tasks:\n",
    "* Select one of the given books or your own book\n",
    "* Create corpus and print word count\n",
    "* Check how many unique words are available in the corpus\n",
    "* Print 30 most frequent words\n",
    "* Plot histogram of most frequent words"
   ]
  },
  {
   "cell_type": "code",
   "execution_count": 3,
   "metadata": {
    "scrolled": true
   },
   "outputs": [
    {
     "name": "stdout",
     "output_type": "stream",
     "text": [
      "Corpus size is 30729 words.\n",
      "Corpus contains 6652 unique words.\n",
      "30 most frequent words:\n",
      "[('und', 917), ('ich', 692), ('die', 663), ('der', 599), ('nicht', 423), ('ein', 398), ('zu', 397), ('das', 396), ('ist', 360), ('du', 312), ('in', 309), ('sie', 299), ('es', 295), ('so', 293), ('mephistopheles', 286), ('den', 276), ('mit', 274), ('faust', 264), ('sich', 259), ('ihr', 255), ('mir', 255), ('mich', 241), ('was', 228), ('er', 228), ('wie', 221), ('auf', 203), ('dem', 192), ('nur', 180), ('von', 173), ('doch', 168)]\n"
     ]
    }
   ],
   "source": [
    "# Set text_choice to 0, 1, or 2 to analyze one of the three different texts!\n",
    "# Choose 0 for The Picture of Dorian Gray, 1 for Pride and Prejudice, 2 for Faust.\n",
    "# If you choose 3, one cell below will fail the task, try to find the problem\n",
    "# Original value: text_choice = 0\n",
    "text_choice = 2\n",
    "\n",
    "corpus = get_corpus(texts[text_choice])\n",
    "word_counts = word_frequency(corpus)\n",
    "print('Corpus size is ' + str(len(corpus)) + ' words.')\n",
    "print('Corpus contains ' + str(len(word_counts)) + ' unique words.')\n",
    "\n",
    "# Sort words according to frequency (from most to least frequent)\n",
    "frequent_words = sorted(word_counts.items(), key=lambda kv: kv[1], reverse=True)\n",
    "\n",
    "# Print out the most frequent words, along with their frequencies\n",
    "range_top = 30\n",
    "\n",
    "print(str(range_top) + ' most frequent words:')\n",
    "print(frequent_words[0:range_top])"
   ]
  },
  {
   "cell_type": "code",
   "execution_count": 4,
   "metadata": {},
   "outputs": [
    {
     "data": {
      "image/png": "[encoded data removed]",
      "text/plain": [
       "<Figure size 1080x360 with 1 Axes>"
      ]
     },
     "metadata": {
      "needs_background": "light"
     },
     "output_type": "display_data"
    },
    {
     "name": "stdout",
     "output_type": "stream",
     "text": [
      "30 most frequent words:\n",
      "('und', 'ich', 'die', 'der', 'nicht', 'ein', 'zu', 'das', 'ist', 'du', 'in', 'sie', 'es', 'so', 'mephistopheles', 'den', 'mit', 'faust', 'sich', 'ihr', 'mir', 'mich', 'was', 'er', 'wie', 'auf', 'dem', 'nur', 'von', 'doch')\n"
     ]
    }
   ],
   "source": [
    "# Plot a histogram of the most frequent words\n",
    "# range_top = how many values will be used for histogram\n",
    "# Original value: range_top = 30\n",
    "range_top = 30\n",
    "\n",
    "words, frequencies = zip(*frequent_words)\n",
    "x = range(range_top)\n",
    "y = list(frequencies[0:range_top])\n",
    "plt.figure(figsize=(15, 5))\n",
    "plt.xticks(x, words[0:range_top], rotation='vertical')\n",
    "plt.bar(x, y)\n",
    "plt.show()\n",
    "print(str(range_top) + ' most frequent words:')\n",
    "print(words[0:range_top])"
   ]
  },
  {
   "cell_type": "markdown",
   "metadata": {},
   "source": [
    "### Stop words  \n",
    "Now remove stop words (given in stopwords.txt) and perform analysis again. What has changed? Note that stopwords-list includes only English stop-words where as stopwords-de.txt has stop words for Germany.\n",
    "\n",
    "Library NLTK is useful for natural language processing. The stop word [list](https://gist.github.com/sebleier/554280) is taken from that library. The German stop word [list](https://github.com/stopwords-iso/stopwords-de) is available also in Git-hub. Also Finnish stop-words are to be found in [here](https://github.com/stopwords-iso/stopwords-fi).\n",
    "\n",
    "Each language needs own list of stop words. Depending of the analysis goal, stop words might still include essential information."
   ]
  },
  {
   "cell_type": "code",
   "execution_count": 5,
   "metadata": {
    "scrolled": true
   },
   "outputs": [
    {
     "name": "stdout",
     "output_type": "stream",
     "text": [
      "There are 621 stop words, which are:\n",
      "['a', 'ab', 'aber', 'ach', 'acht', 'achte', 'achten', 'achter', 'achtes', 'ag', 'alle', 'allein', 'allem', 'allen', 'aller', 'allerdings', 'alles', 'allgemeinen', 'als', 'also', 'am', 'an', 'ander', 'andere', 'anderem', 'anderen', 'anderer', 'anderes', 'anderm', 'andern', 'anderr', 'anders', 'au', 'auch', 'auf', 'aus', 'ausser', 'ausserdem', 'außer', 'außerdem', 'b', 'bald', 'bei', 'beide', 'beiden', 'beim', 'beispiel', 'bekannt', 'bereits', 'besonders', 'besser', 'besten', 'bin', 'bis', 'bisher', 'bist', 'c', 'd', 'dh', 'da', 'dabei', 'dadurch', 'dafür', 'dagegen', 'daher', 'dahin', 'dahinter', 'damals', 'damit', 'danach', 'daneben', 'dank', 'dann', 'daran', 'darauf', 'daraus', 'darf', 'darfst', 'darin', 'darum', 'darunter', 'darüber', 'das', 'dasein', 'daselbst', 'dass', 'dasselbe', 'davon', 'davor', 'dazu', 'dazwischen', 'daß', 'dein', 'deine', 'deinem', 'deinen', 'deiner', 'deines', 'dem', 'dementsprechend', 'demgegenüber', 'demgemäss', 'demgemäß', 'demselben', 'demzufolge', 'den', 'denen', 'denn', 'denselben', 'der', 'deren', 'derer', 'derjenige', 'derjenigen', 'dermassen', 'dermaßen', 'derselbe', 'derselben', 'des', 'deshalb', 'desselben', 'dessen', 'deswegen', 'dich', 'die', 'diejenige', 'diejenigen', 'dies', 'diese', 'dieselbe', 'dieselben', 'diesem', 'diesen', 'dieser', 'dieses', 'dir', 'doch', 'dort', 'drei', 'drin', 'dritte', 'dritten', 'dritter', 'drittes', 'du', 'durch', 'durchaus', 'durfte', 'durften', 'dürfen', 'dürft', 'e', 'eben', 'ebenso', 'ehrlich', 'ei', 'ei', 'eigen', 'eigene', 'eigenen', 'eigener', 'eigenes', 'ein', 'einander', 'eine', 'einem', 'einen', 'einer', 'eines', 'einig', 'einige', 'einigem', 'einigen', 'einiger', 'einiges', 'einmal', 'eins', 'elf', 'en', 'ende', 'endlich', 'entweder', 'er', 'ernst', 'erst', 'erste', 'ersten', 'erster', 'erstes', 'es', 'etwa', 'etwas', 'euch', 'euer', 'eure', 'eurem', 'euren', 'eurer', 'eures', 'f', 'folgende', 'früher', 'fünf', 'fünfte', 'fünften', 'fünfter', 'fünftes', 'für', 'g', 'gab', 'ganz', 'ganze', 'ganzen', 'ganzer', 'ganzes', 'gar', 'gedurft', 'gegen', 'gegenüber', 'gehabt', 'gehen', 'geht', 'gekannt', 'gekonnt', 'gemacht', 'gemocht', 'gemusst', 'genug', 'gerade', 'gern', 'gesagt', 'geschweige', 'gewesen', 'gewollt', 'geworden', 'gibt', 'ging', 'gleich', 'gott', 'gross', 'grosse', 'grossen', 'grosser', 'grosses', 'groß', 'große', 'großen', 'großer', 'großes', 'gut', 'gute', 'guter', 'gutes', 'h', 'hab', 'habe', 'haben', 'habt', 'hast', 'hat', 'hatte', 'hatten', 'hattest', 'hattet', 'heisst', 'her', 'heute', 'hier', 'hin', 'hinter', 'hoch', 'hätte', 'hätten', 'i', 'ich', 'ihm', 'ihn', 'ihnen', 'ihr', 'ihre', 'ihrem', 'ihren', 'ihrer', 'ihres', 'im', 'immer', 'in', 'indem', 'infolgedessen', 'ins', 'irgend', 'ist', 'j', 'ja', 'jahr', 'jahre', 'jahren', 'je', 'jede', 'jedem', 'jeden', 'jeder', 'jedermann', 'jedermanns', 'jedes', 'jedoch', 'jemand', 'jemandem', 'jemanden', 'jene', 'jenem', 'jenen', 'jener', 'jenes', 'jetzt', 'k', 'kam', 'kann', 'kannst', 'kaum', 'kein', 'keine', 'keinem', 'keinen', 'keiner', 'keines', 'kleine', 'kleinen', 'kleiner', 'kleines', 'kommen', 'kommt', 'konnte', 'konnten', 'kurz', 'können', 'könnt', 'könnte', 'l', 'lang', 'lange', 'leicht', 'leide', 'lieber', 'los', 'm', 'machen', 'macht', 'machte', 'mag', 'magst', 'mahn', 'mal', 'man', 'manche', 'manchem', 'manchen', 'mancher', 'manches', 'mann', 'mehr', 'mein', 'meine', 'meinem', 'meinen', 'meiner', 'meines', 'mensch', 'menschen', 'mich', 'mir', 'mit', 'mittel', 'mochte', 'mochten', 'morgen', 'muss', 'musst', 'musste', 'mussten', 'muß', 'mußt', 'möchte', 'mögen', 'möglich', 'mögt', 'müssen', 'müsst', 'müßt', 'n', 'na', 'nach', 'nachdem', 'nahm', 'natürlich', 'neben', 'nein', 'neue', 'neuen', 'neun', 'neunte', 'neunten', 'neunter', 'neuntes', 'nicht', 'nichts', 'nie', 'niemand', 'niemandem', 'niemanden', 'noch', 'nun', 'nur', 'o', 'ob', 'oben', 'oder', 'offen', 'oft', 'ohne', 'ordnung', 'p', 'q', 'r', 'recht', 'rechte', 'rechten', 'rechter', 'rechtes', 'richtig', 'rund', 's', 'sa', 'sache', 'sagt', 'sagte', 'sah', 'satt', 'schlecht', 'schluss', 'schon', 'sechs', 'sechste', 'sechsten', 'sechster', 'sechstes', 'sehr', 'sei', 'seid', 'seien', 'sein', 'seine', 'seinem', 'seinen', 'seiner', 'seines', 'seit', 'seitdem', 'selbst', 'sich', 'sie', 'sieben', 'siebente', 'siebenten', 'siebenter', 'siebentes', 'sind', 'so', 'solang', 'solche', 'solchem', 'solchen', 'solcher', 'solches', 'soll', 'sollen', 'sollst', 'sollt', 'sollte', 'sollten', 'sondern', 'sonst', 'soweit', 'sowie', 'später', 'startseite', 'statt', 'steht', 'suche', 't', 'tag', 'tage', 'tagen', 'tat', 'teil', 'tel', 'tritt', 'trotzdem', 'tun', 'u', 'uhr', 'um', 'und', 'und', 'uns', 'unse', 'unsem', 'unsen', 'unser', 'unsere', 'unserer', 'unses', 'unter', 'v', 'vergangenen', 'viel', 'viele', 'vielem', 'vielen', 'vielleicht', 'vier', 'vierte', 'vierten', 'vierter', 'viertes', 'vom', 'von', 'vor', 'w', 'wahr', 'wann', 'war', 'waren', 'warst', 'wart', 'warum', 'was', 'weg', 'wegen', 'weil', 'weit', 'weiter', 'weitere', 'weiteren', 'weiteres', 'welche', 'welchem', 'welchen', 'welcher', 'welches', 'wem', 'wen', 'wenig', 'wenige', 'weniger', 'weniges', 'wenigstens', 'wenn', 'wer', 'werde', 'werden', 'werdet', 'weshalb', 'wessen', 'wie', 'wieder', 'wieso', 'will', 'willst', 'wir', 'wird', 'wirklich', 'wirst', 'wissen', 'wo', 'woher', 'wohin', 'wohl', 'wollen', 'wollt', 'wollte', 'wollten', 'worden', 'wurde', 'wurden', 'während', 'währenddem', 'währenddessen', 'wäre', 'würde', 'würden', 'x', 'y', 'z', 'zb', 'zehn', 'zehnte', 'zehnten', 'zehnter', 'zehntes', 'zeit', 'zu', 'zuerst', 'zugleich', 'zum', 'zunächst', 'zur', 'zurück', 'zusammen', 'zwanzig', 'zwar', 'zwei', 'zweite', 'zweiten', 'zweiter', 'zweites', 'zwischen', 'zwölf', 'über', 'überhaupt', 'übrigens']\n"
     ]
    }
   ],
   "source": [
    "# creating corpus of stop-words\n",
    "s_words = {0:'stopwords.txt',1:'stopwords.txt',2:'stopwords-de.txt',3:'stopwords-fi.txt'}\n",
    "stop_words = get_corpus(s_words[text_choice])\n",
    "#\"stopwords.txt\"       # English stop words\n",
    "#'stopwords-de.txt'    # German stop words\n",
    "#'stopwords-fi.txt'    # Finnish stop words\n",
    "print('There are ' + str(len(stop_words)) + ' stop words, which are:')\n",
    "print(stop_words)"
   ]
  },
  {
   "cell_type": "markdown",
   "metadata": {},
   "source": [
    "Removing stop words from the word_counts."
   ]
  },
  {
   "cell_type": "code",
   "execution_count": 6,
   "metadata": {},
   "outputs": [],
   "source": [
    "for word in stop_words:\n",
    "    if word in word_counts:\n",
    "        del word_counts[word]"
   ]
  },
  {
   "cell_type": "markdown",
   "metadata": {},
   "source": [
    "Compare the reduced size of unique words"
   ]
  },
  {
   "cell_type": "code",
   "execution_count": 7,
   "metadata": {},
   "outputs": [
    {
     "name": "stdout",
     "output_type": "stream",
     "text": [
      "Corpus size is 30729 words.\n",
      "Corpus contains 6236 unique words.\n",
      "30 most frequent words:\n",
      "[('mephistopheles', 286), ('faust', 264), ('margarete', 85), ('–', 82), ('geist', 55), ('welt', 52), ('bey', 51), ('marthe', 45), ('herr', 41), ('hab’', 40), ('leben', 39), ('gehn', 38), ('teufel', 37), ('laß', 36), ('seyn', 35), ('gretchen', 35), ('herz', 32), ('fort', 32), ('nacht', 30), ('frosch', 30), ('sey', 28), ('ist’s', 27), ('herrn', 27), ('weh', 27), ('seyd', 26), ('kind', 26), ('mutter', 26), ('weiß', 25), ('herzen', 24), ('seh’', 24)]\n"
     ]
    }
   ],
   "source": [
    "print('Corpus size is ' + str(len(corpus)) + ' words.')\n",
    "print('Corpus contains ' + str(len(word_counts)) + ' unique words.')\n",
    "\n",
    "# Sort words according to frequency (from most to least frequent)\n",
    "frequent_words = sorted(word_counts.items(), key=lambda kv: kv[1], reverse=True)\n",
    "\n",
    "# Print out the most frequent words, along with their frequencies\n",
    "range_top = 30\n",
    "\n",
    "print(str(range_top) + ' most frequent words:')\n",
    "print(frequent_words[0:range_top])"
   ]
  },
  {
   "cell_type": "markdown",
   "metadata": {},
   "source": [
    "And plot the histogram"
   ]
  },
  {
   "cell_type": "code",
   "execution_count": 8,
   "metadata": {},
   "outputs": [
    {
     "data": {
      "image/png": "[encoded data removed]",
      "text/plain": [
       "<Figure size 1080x360 with 1 Axes>"
      ]
     },
     "metadata": {
      "needs_background": "light"
     },
     "output_type": "display_data"
    },
    {
     "name": "stdout",
     "output_type": "stream",
     "text": [
      "30 most frequent words:\n",
      "('mephistopheles', 'faust', 'margarete', '–', 'geist', 'welt', 'bey', 'marthe', 'herr', 'hab’', 'leben', 'gehn', 'teufel', 'laß', 'seyn', 'gretchen', 'herz', 'fort', 'nacht', 'frosch', 'sey', 'ist’s', 'herrn', 'weh', 'seyd', 'kind', 'mutter', 'weiß', 'herzen', 'seh’')\n"
     ]
    }
   ],
   "source": [
    "# Plot a histogram of the most frequent words with stop words eliminated\n",
    "# range_top = how many values will be used for histogram\n",
    "# Original value: range_top = 30\n",
    "range_top = 30\n",
    "\n",
    "words, frequencies = zip(*frequent_words)\n",
    "x = range(range_top)\n",
    "y = list(frequencies[0:range_top])\n",
    "plt.figure(figsize=(15, 5))\n",
    "plt.xticks(x, words[0:range_top], rotation='vertical')\n",
    "plt.bar(x, y)\n",
    "plt.show()\n",
    "print(str(range_top) + ' most frequent words:')\n",
    "print(words[0:range_top])"
   ]
  },
  {
   "cell_type": "markdown",
   "metadata": {},
   "source": [
    "### Create word-vectors  \n",
    "To create embeddings, or word vectors, manually is relatively complex. Do not spend too much time here unless this is necessary for your task. We will perform word to vector for   \n",
    "  \n",
    "To create word vector following steps are needed:  \n",
    "1. Identify all unique words in the corpus.  \n",
    "2. For each sentence, create vector presentation of the sentence.  \n",
    "3. Add word-vector to vector corpus.  \n"
   ]
  },
  {
   "cell_type": "code",
   "execution_count": 9,
   "metadata": {},
   "outputs": [],
   "source": [
    "# Create word-vector from word_counts dictionary\n",
    "word_vector=list(word_counts)\n",
    "word_to_index = dict()\n",
    "index_to_word = dict()\n",
    "\n",
    "# Build index for one hot coding\n",
    "for index, word in enumerate(word_vector):\n",
    "    word_to_index[word]=index\n",
    "    index_to_word[index]=word"
   ]
  },
  {
   "cell_type": "code",
   "execution_count": 10,
   "metadata": {},
   "outputs": [],
   "source": [
    "# Source: https://stackoverflow.com/questions/4576077/how-can-i-split-a-text-into-sentences\n",
    "\n",
    "# -*- coding: utf-8 -*-\n",
    "import re\n",
    "alphabets= \"([A-Za-z])\"\n",
    "prefixes = \"(Mr|St|Mrs|Ms|Dr)[.]\"\n",
    "suffixes = \"(Inc|Ltd|Jr|Sr|Co)\"\n",
    "starters = \"(Mr|Mrs|Ms|Dr|He\\s|She\\s|It\\s|They\\s|Their\\s|Our\\s|We\\s|But\\s|However\\s|That\\s|This\\s|Wherever)\"\n",
    "acronyms = \"([A-Z][.][A-Z][.](?:[A-Z][.])?)\"\n",
    "websites = \"[.](com|net|org|io|gov)\"\n",
    "\n",
    "def split_into_sentences(text):\n",
    "    text = \" \" + text + \"  \"\n",
    "    text = text.replace(\"\\n\",\" \")\n",
    "    text = re.sub(prefixes,\"\\\\1<prd>\",text)\n",
    "    text = re.sub(websites,\"<prd>\\\\1\",text)\n",
    "    if \"Ph.D\" in text: text = text.replace(\"Ph.D.\",\"Ph<prd>D<prd>\")\n",
    "    text = re.sub(\"\\s\" + alphabets + \"[.] \",\" \\\\1<prd> \",text)\n",
    "    text = re.sub(acronyms+\" \"+starters,\"\\\\1<stop> \\\\2\",text)\n",
    "    text = re.sub(alphabets + \"[.]\" + alphabets + \"[.]\" + alphabets + \"[.]\",\"\\\\1<prd>\\\\2<prd>\\\\3<prd>\",text)\n",
    "    text = re.sub(alphabets + \"[.]\" + alphabets + \"[.]\",\"\\\\1<prd>\\\\2<prd>\",text)\n",
    "    text = re.sub(\" \"+suffixes+\"[.] \"+starters,\" \\\\1<stop> \\\\2\",text)\n",
    "    text = re.sub(\" \"+suffixes+\"[.]\",\" \\\\1<prd>\",text)\n",
    "    text = re.sub(\" \" + alphabets + \"[.]\",\" \\\\1<prd>\",text)\n",
    "    if \"”\" in text: text = text.replace(\".”\",\"”.\")\n",
    "    if \"\\\"\" in text: text = text.replace(\".\\\"\",\"\\\".\")\n",
    "    if \"!\" in text: text = text.replace(\"!\\\"\",\"\\\"!\")\n",
    "    if \"?\" in text: text = text.replace(\"?\\\"\",\"\\\"?\")\n",
    "    text = text.replace(\".\",\".<stop>\")\n",
    "    text = text.replace(\"?\",\"?<stop>\")\n",
    "    text = text.replace(\"!\",\"!<stop>\")\n",
    "    text = text.replace(\"<prd>\",\".\")\n",
    "    sentences = text.split(\"<stop>\")\n",
    "    sentences = sentences[:-1]\n",
    "    sentences = [s.strip() for s in sentences]\n",
    "    return sentences"
   ]
  },
  {
   "cell_type": "code",
   "execution_count": 11,
   "metadata": {},
   "outputs": [],
   "source": [
    "def read_line_from(filename,lnr):\n",
    "    with open(filename, encoding=\"utf8\") as f:\n",
    "        text_lines = f.readlines()\n",
    "    return text_lines[lnr].replace('\\n','')"
   ]
  },
  {
   "cell_type": "code",
   "execution_count": 12,
   "metadata": {},
   "outputs": [],
   "source": [
    "def sentences_from(filename):    \n",
    "    with open(filename, encoding=\"utf8\") as f:\n",
    "        all_text = f.read()\n",
    "    sentences = split_into_sentences(all_text)\n",
    "    return sentences"
   ]
  },
  {
   "cell_type": "code",
   "execution_count": 13,
   "metadata": {},
   "outputs": [
    {
     "name": "stdout",
     "output_type": "stream",
     "text": [
      "Checking the raw read out vs parsing\n",
      "\n",
      "Raw text readout\n",
      "\n",
      "_Zueignung._\n",
      "\n",
      "\n",
      "Ihr naht euch wieder, schwankende Gestalten!\n",
      "Die früh sich einst dem trüben Blick gezeigt.\n",
      "Versuch’ ich wohl euch diesmal fest zu halten?\n",
      "Fühl’ ich mein Herz noch jenem Wahn geneigt?\n",
      "Ihr drängt euch zu! nun gut, so mögt ihr walten,\n",
      "Wie ihr aus Dunst und Nebel um mich steigt;\n",
      "Mein Busen fühlt sich jugendlich erschüttert\n",
      "\n",
      "Parsed sentences\n",
      "\n",
      "_Zueignung.\n"
     ]
    }
   ],
   "source": [
    "sentences = sentences_from(texts[text_choice])\n",
    "print(\"Checking the raw read out vs parsing\")\n",
    "print(\"\\nRaw text readout\\n\")\n",
    "for i in range(10):\n",
    "    print(read_line_from(texts[text_choice],i))\n",
    "\n",
    "print(\"\\nParsed sentences\\n\")\n",
    "print(sentences[0])"
   ]
  },
  {
   "cell_type": "markdown",
   "metadata": {},
   "source": [
    "### Create word-vector  \n",
    "The sentences are the same as above. The word vector length is same as unique words after stop-word removal.  \n",
    "  \n",
    "The examples from [MachineLearningMastery](https://machinelearningmastery.com/how-to-one-hot-encode-sequence-data-in-python/) has been on source of information in addition of [TowardsDataScience](https://towardsdatascience.com/word2vec-from-scratch-with-numpy-8786ddd49e72)."
   ]
  },
  {
   "cell_type": "code",
   "execution_count": 14,
   "metadata": {},
   "outputs": [
    {
     "name": "stdout",
     "output_type": "stream",
     "text": [
      "Sentence 0 is: _Zueignung.\n",
      "Sentence 1 is: _   Ihr naht euch wieder, schwankende Gestalten!\n",
      "Sentence 2 is: Die früh sich einst dem trüben Blick gezeigt.\n",
      "Sentence 3 is: Versuch’ ich wohl euch diesmal fest zu halten?\n",
      "Sentence 4 is: Fühl’ ich mein Herz noch jenem Wahn geneigt?\n",
      "Sentence 5 is: Ihr drängt euch zu!\n",
      "Sentence 6 is: nun gut, so mögt ihr walten, Wie ihr aus Dunst und Nebel um mich steigt; Mein Busen fühlt sich jugendlich erschüttert Vom Zauberhauch der euren Zug umwittert.\n",
      "Sentence 7 is: Ihr bringt mit euch die Bilder froher Tage, Und manche liebe Schatten steigen auf; Gleich einer alten, halbverklungnen Sage, Kommt erste Lieb’ und Freundschaft mit herauf; Der Schmerz wird neu, es wiederholt die Klage Des Lebens labyrinthisch irren Lauf, Und nennt die Guten, die, um schöne Stunden Vom Glück getäuscht, vor mir hinweggeschwunden.\n",
      "Sentence 8 is: Sie hören nicht die folgenden Gesänge, Die Seelen, denen ich die ersten sang, Zerstoben ist das freundliche Gedränge, Verklungen ach!\n",
      "Sentence 9 is: der erste Wiederklang.\n",
      "Sentence 10 is: Mein Leid[Lied] ertönt der unbekannten Menge, Ihr Beyfall selbst macht meinem Herzen bang, Und was sich sonst an meinem Lied erfreuet, Wenn es noch lebt, irrt in der Welt zerstreuet.\n"
     ]
    }
   ],
   "source": [
    "# Dictionary containing word_vector of each sentense, by order number\n",
    "word_vectors = {}\n",
    "\n",
    "limit = 10\n",
    "\n",
    "for i, sentence in enumerate(sentences):\n",
    "    if i>limit: # Increase this number to see more sentences, finally comment out if-clause and run whole book\n",
    "        break\n",
    "    if limit<100:\n",
    "        print(\"Sentence {} is: {}\".format(i, sentence))\n",
    "\n",
    "    v_vect = np.zeros((len(word_counts),1))\n",
    "    \n",
    "    words_in_sentence=sentence.split(' ')\n",
    "    for word in words_in_sentence:\n",
    "        if len(word)<2:\n",
    "            continue\n",
    "        word = word.translate(str.maketrans('', '', string.punctuation))\n",
    "        try:\n",
    "            v_vect[word_to_index[word]]+=1\n",
    "        except:\n",
    "            pass #print(\"word {} not in word_vect\".format(word))\n",
    "    word_vectors[i]=v_vect"
   ]
  },
  {
   "cell_type": "code",
   "execution_count": 15,
   "metadata": {},
   "outputs": [
    {
     "name": "stdout",
     "output_type": "stream",
     "text": [
      "{0: array([[0.],\n",
      "       [0.],\n",
      "       [0.],\n",
      "       ...,\n",
      "       [0.],\n",
      "       [0.],\n",
      "       [0.]]),\n",
      " 1: array([[0.],\n",
      "       [1.],\n",
      "       [1.],\n",
      "       ...,\n",
      "       [0.],\n",
      "       [0.],\n",
      "       [0.]]),\n",
      " 2: array([[0.],\n",
      "       [0.],\n",
      "       [0.],\n",
      "       ...,\n",
      "       [0.],\n",
      "       [0.],\n",
      "       [0.]]),\n",
      " 3: array([[0.],\n",
      "       [0.],\n",
      "       [0.],\n",
      "       ...,\n",
      "       [0.],\n",
      "       [0.],\n",
      "       [0.]]),\n",
      " 4: array([[0.],\n",
      "       [0.],\n",
      "       [0.],\n",
      "       ...,\n",
      "       [0.],\n",
      "       [0.],\n",
      "       [0.]]),\n",
      " 5: array([[0.],\n",
      "       [0.],\n",
      "       [0.],\n",
      "       ...,\n",
      "       [0.],\n",
      "       [0.],\n",
      "       [0.]]),\n",
      " 6: array([[0.],\n",
      "       [0.],\n",
      "       [0.],\n",
      "       ...,\n",
      "       [0.],\n",
      "       [0.],\n",
      "       [0.]]),\n",
      " 7: array([[0.],\n",
      "       [0.],\n",
      "       [0.],\n",
      "       ...,\n",
      "       [0.],\n",
      "       [0.],\n",
      "       [0.]]),\n",
      " 8: array([[0.],\n",
      "       [0.],\n",
      "       [0.],\n",
      "       ...,\n",
      "       [0.],\n",
      "       [0.],\n",
      "       [0.]]),\n",
      " 9: array([[0.],\n",
      "       [0.],\n",
      "       [0.],\n",
      "       ...,\n",
      "       [0.],\n",
      "       [0.],\n",
      "       [0.]]),\n",
      " 10: array([[0.],\n",
      "       [0.],\n",
      "       [0.],\n",
      "       ...,\n",
      "       [0.],\n",
      "       [0.],\n",
      "       [0.]])}\n"
     ]
    }
   ],
   "source": [
    "import pprint\n",
    "pprint.pprint(word_vectors)"
   ]
  },
  {
   "cell_type": "markdown",
   "metadata": {},
   "source": [
    "#### Alternate approach, not executing the whole book  \n",
    "\n",
    "Some libraries offer useful tools. However, when applying those, one may need to use *np.expand_dims* as each new sentence brings new keys."
   ]
  },
  {
   "cell_type": "code",
   "execution_count": 16,
   "metadata": {},
   "outputs": [
    {
     "name": "stdout",
     "output_type": "stream",
     "text": [
      "['zueignung' 'naht' 'schwankende' ... 'gerichtet' 'innen' 'verhallend']\n",
      "[6108 3578 4399 ... 1918 2699 5390]\n",
      "[[0. 0. 0. ... 0. 0. 0.]\n",
      " [0. 0. 0. ... 0. 0. 0.]\n",
      " [0. 0. 0. ... 0. 0. 0.]\n",
      " ...\n",
      " [0. 0. 0. ... 0. 0. 0.]\n",
      " [0. 0. 0. ... 0. 0. 0.]\n",
      " [0. 0. 0. ... 0. 0. 0.]]\n",
      "['zueignung']\n"
     ]
    }
   ],
   "source": [
    "from sklearn.preprocessing import LabelEncoder\n",
    "from sklearn.preprocessing import OneHotEncoder\n",
    "\n",
    "# in below, only word_counts list is tranformed\n",
    "# in practise, we should loop one sentence at time throught this encoder\n",
    "data = list(word_counts)\n",
    "values = np.array(data)\n",
    "print(values)\n",
    "\n",
    "l_encoder = LabelEncoder()\n",
    "int_encoded = l_encoder.fit_transform(values)\n",
    "print(int_encoded)\n",
    "\n",
    "onehot_encoder = OneHotEncoder(sparse=False)\n",
    "int_encoded = int_encoded.reshape(len(int_encoded), 1)\n",
    "onehot_encoded = onehot_encoder.fit_transform(int_encoded)\n",
    "print(onehot_encoded)\n",
    "\n",
    "inverted = l_encoder.inverse_transform([np.argmax(onehot_encoded[0, :])])\n",
    "print(inverted)"
   ]
  },
  {
   "cell_type": "markdown",
   "metadata": {},
   "source": [
    "### Task 2: Create same functionality as in Task but capitalize library functions:  \n",
    "\n",
    "Python has several useful libraries.  \n",
    "1. [NLTK](https://www.nltk.org/)  \n",
    "2. [scikit-learn](https://scikit-learn.org/stable/modules/classes.html?highlight=feature%20extraction#module-sklearn.feature_extraction)  \n",
    "\n",
    "From scikit-learn following functions may prove practical:  \n",
    "\n",
    "```python\n",
    "sklearn.feature_extraction.text.TfidfVectorizer  \n",
    "sklearn.feature_extraction.text.CountVectorizer\n",
    "\n",
    "from sklearn.feature_extraction.text import TfidVectorizer,CountVectorizer\n",
    "vectorizer = CountVectorizer()\n",
    "vectorizer.fit(text)\n",
    "print(vectorizer.vocabulary_)\n",
    "```\n",
    "\n",
    "[An insteresting web site](https://machinelearningmastery.com/prepare-text-data-machine-learning-scikit-learn/) describes how to perform text preprocessing among other machine learning topics.\n",
    "\n",
    "About this topic further deep dive is available by [reading](https://arxiv.org/pdf/1511.07916.pdf)"
   ]
  },
  {
   "cell_type": "code",
   "execution_count": 17,
   "metadata": {},
   "outputs": [
    {
     "name": "stdout",
     "output_type": "stream",
     "text": [
      "Do you want to download NLTK library (type yes to confirm)? no\n",
      "NLTK not installed.\n"
     ]
    }
   ],
   "source": [
    "# nltk book is ~100MB and all files ~1GB.\n",
    "# This script opens dialogue to install NLTK library\n",
    "# Select BOOK and download see: https://www.nltk.org/book/ch01.html\n",
    "try:\n",
    "    install = input('Do you want to download NLTK library (type yes to confirm)? ').lower()\n",
    "    if install == 'yes':\n",
    "        print(\"Select BOOK and download. Then exit loader!\")\n",
    "        import nltk\n",
    "        nltk.download() \n",
    "        print('Natural Language ToolKit installed')\n",
    "    else:\n",
    "        print('NLTK not installed.')\n",
    "except:\n",
    "    raise Exception('You cannot install libraries')"
   ]
  },
  {
   "cell_type": "code",
   "execution_count": 18,
   "metadata": {},
   "outputs": [],
   "source": [
    "# TODO: implement word vectorization by library tools. Perform TF/IDF.\n"
   ]
  },
  {
   "cell_type": "markdown",
   "metadata": {},
   "source": [
    "### Tasks 3 and 4: Apply natural language processing for with real data in network  \n",
    "\n",
    "Recommended libraries to access network:\n",
    "1. [URLLIB](https://docs.python.org/3/library/urllib.html) and [URLLIB3](https://urllib3.readthedocs.io/en/latest/index.html)  \n",
    "2. [BeautifulSoup](https://pypi.org/project/beautifulsoup4/)  \n",
    "3. [Requests](https://requests.readthedocs.io/en/master/)  \n",
    "\n",
    "Recommended for Levenhstein:  \n",
    "3. [Levenhstein](https://pypi.org/project/python-Levenshtein/)\n",
    "\n",
    "\n",
    "This task is recommended to check with sufficient time."
   ]
  },
  {
   "cell_type": "code",
   "execution_count": 19,
   "metadata": {},
   "outputs": [],
   "source": [
    "# Helper for authorization\n",
    "import requests\n",
    "\n",
    "class BearerAuth(requests.auth.AuthBase):\n",
    "    def __init__(self, token):\n",
    "        self.token = token\n",
    "    def __call__(self, r):\n",
    "        r.headers[\"authorization\"] = \"Bearer \" + self.token\n",
    "        return r"
   ]
  },
  {
   "cell_type": "code",
   "execution_count": 20,
   "metadata": {
    "scrolled": true
   },
   "outputs": [
    {
     "name": "stdout",
     "output_type": "stream",
     "text": [
      "{'Date': 'Tue, 20 Apr 2021 12:03:46 GMT', 'Content-Type': 'text/html; charset=UTF-8', 'Transfer-Encoding': 'chunked', 'Connection': 'keep-alive', 'Set-Cookie': '__cfduid=d06b06e6902009ee130e8bad6633e2c881618920226; expires=Thu, 20-May-21 12:03:46 GMT; path=/; domain=.kielitoimistonsanakirja.fi; HttpOnly; SameSite=Lax; Secure', 'X-Dns-Prefetch-Control': 'off', 'X-Frame-Options': 'SAMEORIGIN', 'Strict-Transport-Security': 'max-age=15552000; includeSubDomains', 'X-Download-Options': 'noopen', 'X-Content-Type-Options': 'nosniff', 'X-Xss-Protection': '1; mode=block', 'Content-Security-Policy': \"default-src 'self'; script-src 'self' 'unsafe-eval' 'nonce-2i7yvpnynv' 'nonce-pJLd4vIzbH' www.google-analytics.com www.googletagmanager.com www.google.com www.gstatic.com ajax.googleapis.com; connect-src 'self' https://www.google-analytics.com https://api.airbrake.io; style-src 'self' 'unsafe-inline' fonts.googleapis.com; img-src 'self' blob: data: www.google-analytics.com www.googletagmanager.com www.gstatic.com/; font-src 'self' data: fonts.gstatic.com; frame-src www.google.com; manifest-src 'self'; report-uri /csp_error\", 'X-Content-Security-Policy': \"default-src 'self'; script-src 'self' 'unsafe-eval' 'nonce-2i7yvpnynv' 'nonce-pJLd4vIzbH' www.google-analytics.com www.googletagmanager.com www.google.com www.gstatic.com ajax.googleapis.com; connect-src 'self' https://www.google-analytics.com https://api.airbrake.io; style-src 'self' 'unsafe-inline' fonts.googleapis.com; img-src 'self' blob: data: www.google-analytics.com www.googletagmanager.com www.gstatic.com/; font-src 'self' data: fonts.gstatic.com; frame-src www.google.com; manifest-src 'self'; report-uri /csp_error\", 'X-Webkit-Csp': \"default-src 'self'; script-src 'self' 'unsafe-eval' 'nonce-2i7yvpnynv' 'nonce-pJLd4vIzbH' www.google-analytics.com www.googletagmanager.com www.google.com www.gstatic.com ajax.googleapis.com; connect-src 'self' https://www.google-analytics.com https://api.airbrake.io; style-src 'self' 'unsafe-inline' fonts.googleapis.com; img-src 'self' blob: data: www.google-analytics.com www.googletagmanager.com www.gstatic.com/; font-src 'self' data: fonts.gstatic.com; frame-src www.google.com; manifest-src 'self'; report-uri /csp_error\", 'Access-Control-Allow-Origin': '*', 'Cache-Control': 'public, max-age=86400', 'Last-Modified': 'Tue, 23 Feb 2021 09:45:38 GMT', 'Via': '1.1 vegur', 'CF-Cache-Status': 'DYNAMIC', 'cf-request-id': '0990c3558f0000cb089885c000000001', 'Expect-CT': 'max-age=604800, report-uri=\"https://report-uri.cloudflare.com/cdn-cgi/beacon/expect-ct\"', 'Report-To': '{\"max_age\":604800,\"group\":\"cf-nel\",\"endpoints\":[{\"url\":\"https:\\\\/\\\\/a.nel.cloudflare.com\\\\/report?s=NAR3lJKuFGLUZxCMUsIDt7YLyIwP04RmjO%2BkujJ0JRKx23woMLS6S0caICbzmGYawUkrRik%2FDEFOr%2Fn8VC%2FUWUwY%2Fmm3oRWV10g1fO%2BC5axi5o3HpSBJh6cNzVyVDi0%3D\"}]}', 'NEL': '{\"report_to\":\"cf-nel\",\"max_age\":604800}', 'Server': 'cloudflare', 'CF-RAY': '642e3b35bdcecb08-ARN', 'Content-Encoding': 'gzip', 'alt-svc': 'h3-27=\":443\"; ma=86400, h3-28=\":443\"; ma=86400, h3-29=\":443\"; ma=86400'}\n"
     ]
    }
   ],
   "source": [
    "# Helper for accessing web\n",
    "import requests\n",
    "import urllib.request\n",
    "from requests.auth import HTTPBasicAuth\n",
    "\n",
    "#from bs4 import BeautifulSoup # for parsing\n",
    "\n",
    "URL =\"https://www.kielitoimistonsanakirja.fi\"\n",
    "haku=\"/api/search/api/v1/search?keyword=\"\n",
    "word=\"koira\"\n",
    "\n",
    "# Make your own key, change below key by removing random section\n",
    "key=\"No1amount2of3correction4can5outweigh6the7strength8of9encouragement.\\\n",
    "Correction0does1much,2but3encouragement4does5more.\"\n",
    "header = {'User-Agent': 'Mozilla/5.0'}\n",
    "\n",
    "# Just reading URL content\n",
    "#req = requests.get(URL,headers=headers)\n",
    "\n",
    "# Reading URL with authentication\n",
    "response = requests.get(URL, auth=BearerAuth(key))\n",
    "\n",
    "print(response.headers)\n"
   ]
  },
  {
   "cell_type": "code",
   "execution_count": 21,
   "metadata": {},
   "outputs": [],
   "source": [
    "# TODO: implement Levenhstein distance against Kotus dictionary\n"
   ]
  },
  {
   "cell_type": "code",
   "execution_count": null,
   "metadata": {},
   "outputs": [],
   "source": []
  }
 ],
 "metadata": {
  "kernelspec": {
   "display_name": "Python 3",
   "language": "python",
   "name": "python3"
  },
  "language_info": {
   "codemirror_mode": {
    "name": "ipython",
    "version": 3
   },
   "file_extension": ".py",
   "mimetype": "text/x-python",
   "name": "python",
   "nbconvert_exporter": "python",
   "pygments_lexer": "ipython3",
   "version": "3.7.6"
  }
 },
 "nbformat": 4,
 "nbformat_minor": 2
}
