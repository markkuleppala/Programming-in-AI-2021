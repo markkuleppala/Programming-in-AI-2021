{
 "cells": [
  {
   "cell_type": "markdown",
   "metadata": {},
   "source": [
    "\n",
    "# Diploma in Artificial Intelligence\n",
    "\n",
    "# AI Programming (April 2021), Session 8\n",
    "\n",
    "# Topic: Machine Learning Workflow"
   ]
  },
  {
   "cell_type": "markdown",
   "metadata": {},
   "source": [
    "## Libraries needed in machine learning"
   ]
  },
  {
   "cell_type": "code",
   "execution_count": 1,
   "metadata": {},
   "outputs": [],
   "source": [
    "# Think what libraries are needed in your machine learning workflow:\n",
    "\n",
    "# Numpy and Pandas:\n",
    "import numpy as np\n",
    "import pandas as pd\n",
    "\n",
    "# scikit-learn library functionality:\n",
    "from sklearn import datasets, linear_model\n",
    "from sklearn.metrics import mean_squared_error, r2_score\n",
    "from sklearn.model_selection import train_test_split\n",
    "\n",
    "# Library implementation of support vector machines:\n",
    "from sklearn.svm import SVR\n",
    "\n",
    "# plotting with matplotlib:\n",
    "import matplotlib.pyplot as plt"
   ]
  },
  {
   "cell_type": "markdown",
   "metadata": {},
   "source": [
    "## Read Data"
   ]
  },
  {
   "cell_type": "code",
   "execution_count": 2,
   "metadata": {},
   "outputs": [],
   "source": [
    "# Read the data from a text file, data base or with the help of a library:\n",
    "\n",
    "# California housing data set from scikit-learn library:\n",
    "(california_x, california_y) = datasets.fetch_california_housing(return_X_y=True)\n"
   ]
  },
  {
   "cell_type": "markdown",
   "metadata": {},
   "source": [
    "## Pre-processing"
   ]
  },
  {
   "cell_type": "code",
   "execution_count": 3,
   "metadata": {},
   "outputs": [],
   "source": [
    "# Pre-processing, for instance, normalizing data, selecting variables from a table, etc.\n",
    "\n"
   ]
  },
  {
   "cell_type": "markdown",
   "metadata": {},
   "source": [
    "## Create the model "
   ]
  },
  {
   "cell_type": "code",
   "execution_count": 4,
   "metadata": {},
   "outputs": [],
   "source": [
    "# Create the model (or the model object), training later\n",
    "\n",
    "# You may create more than one model, if you want to compare models, for instance,\n",
    "# compare linear prediction and non-linear prediction\n",
    "\n",
    "svr_rbf_malli = SVR(kernel='rbf', C=100, gamma=0.1, epsilon=.1)\n"
   ]
  },
  {
   "cell_type": "markdown",
   "metadata": {},
   "source": [
    "## Model training and cross-validation"
   ]
  },
  {
   "cell_type": "code",
   "execution_count": 5,
   "metadata": {},
   "outputs": [],
   "source": [
    "# Decide which cross-validation methodology you will use, for instance k-fold\n",
    "# cross-validation\n",
    "\n",
    "# Number of folds:\n",
    "k_fold = 5\n",
    "\n",
    "mse_train = np.zeros(k_fold)\n",
    "mse_test = np.zeros(k_fold)\n",
    "\n",
    "r2_train = np.zeros(k_fold)\n",
    "r2_test = np.zeros(k_fold)\n",
    "\n",
    "# Loop structure, for every data and for every model:\n",
    "for i in range(k_fold):\n",
    "    # divide the data into training data and validation data\n",
    "    data_x_train, data_x_test, data_y_train, data_y_test = \\\n",
    "        train_test_split(california_x, california_y, test_size=0.3, random_state=67*i)\n",
    "    \n",
    "    # train the model with training data\n",
    "    svr_rbf_malli.fit(data_x_train, data_y_train)\n",
    "    \n",
    "    # assess the model, measure the error for training data => training error\n",
    "    y_pred_rbf_train = svr_rbf_malli.predict(data_x_train)\n",
    "    mse_train[i] = mean_squared_error(data_y_train, y_pred_rbf_train)\n",
    "    r2_train[i] = r2_score(data_y_train, y_pred_rbf_train)\n",
    "    \n",
    "    # assess the model, measure the error for validation data => validation error\n",
    "    y_pred_rbf_test = svr_rbf_malli.predict(data_x_test)\n",
    "    mse_test[i] = mean_squared_error(data_y_test, y_pred_rbf_test)\n",
    "    r2_test[i] = r2_score(data_y_test, y_pred_rbf_test)\n",
    "    \n",
    "    # store these errors so that you can report on the average error, for instance\n"
   ]
  },
  {
   "cell_type": "code",
   "execution_count": 6,
   "metadata": {},
   "outputs": [
    {
     "name": "stdout",
     "output_type": "stream",
     "text": [
      "Averga training error (MSE) on 0.009506925534929675\n",
      "Average test error (MSE) on 1.1318052393740559\n",
      "Average coefficient of determintaion for the training set (R2) on 0.9928646252192408\n",
      "Average coefficient of determintaion for the test set (R2) on 0.1486912967324933\n"
     ]
    }
   ],
   "source": [
    "# Compute the average error and the standard deviation of the error\n",
    "\n",
    "print(\"Averga training error (MSE) on {0}\".format(np.mean(mse_train)))\n",
    "\n",
    "print(\"Average test error (MSE) on {0}\".format(np.mean(mse_test)))\n",
    "\n",
    "print(\"Average coefficient of determintaion for the training set (R2) on {0}\".format(np.mean(r2_train)))\n",
    "\n",
    "print(\"Average coefficient of determintaion for the test set (R2) on {0}\".format(np.mean(r2_test)))\n"
   ]
  },
  {
   "cell_type": "markdown",
   "metadata": {},
   "source": [
    "## Present the results graphically"
   ]
  },
  {
   "cell_type": "code",
   "execution_count": 7,
   "metadata": {},
   "outputs": [
    {
     "data": {
      "image/png": "[encoded data removed]",
      "text/plain": [
       "<Figure size 432x288 with 1 Axes>"
      ]
     },
     "metadata": {
      "needs_background": "light"
     },
     "output_type": "display_data"
    }
   ],
   "source": [
    "# For every model and every error measure\n",
    "\n",
    "# Tee tuloskuva, jossa opetusvirheet ja validointivirheet on visualisoitu:\n",
    "plt.plot(np.ones((k_fold,1)), mse_train, '.')\n",
    "plt.plot(2*np.ones((k_fold,1)), mse_test, '.')\n",
    "plt.title('SVM, training and test error for predictions (MSE)')\n",
    "plt.xticks([1,2], ['train', 'test'])\n",
    "plt.ylabel('Average MSE')\n",
    "plt.show()"
   ]
  },
  {
   "cell_type": "code",
   "execution_count": 8,
   "metadata": {},
   "outputs": [
    {
     "data": {
      "image/png": "[encoded data removed]",
      "text/plain": [
       "<Figure size 432x288 with 1 Axes>"
      ]
     },
     "metadata": {
      "needs_background": "light"
     },
     "output_type": "display_data"
    }
   ],
   "source": [
    "# Tee tuloskuva, jossa opetusvirheet ja validointivirheet on visualisoitu:\n",
    "plt.plot(np.ones((k_fold,1)), r2_train, '.')\n",
    "plt.plot(2*np.ones((k_fold,1)), r2_test, '.')\n",
    "plt.title('SVM, training and test error for predictions (R2)')\n",
    "plt.xticks([1,2], ['train', 'test'])\n",
    "plt.ylabel('Average coefficient of determination')\n",
    "plt.show()"
   ]
  },
  {
   "cell_type": "code",
   "execution_count": 9,
   "metadata": {},
   "outputs": [],
   "source": [
    "# Now we are done!\n"
   ]
  }
 ],
 "metadata": {
  "kernelspec": {
   "display_name": "Python 3",
   "language": "python",
   "name": "python3"
  },
  "language_info": {
   "codemirror_mode": {
    "name": "ipython",
    "version": 3
   },
   "file_extension": ".py",
   "mimetype": "text/x-python",
   "name": "python",
   "nbconvert_exporter": "python",
   "pygments_lexer": "ipython3",
   "version": "3.7.6"
  }
 },
 "nbformat": 4,
 "nbformat_minor": 2
}
