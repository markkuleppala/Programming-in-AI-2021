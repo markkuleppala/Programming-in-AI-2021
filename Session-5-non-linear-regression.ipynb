{
 "cells": [
  {
   "cell_type": "markdown",
   "metadata": {},
   "source": [
    "# Diploma in Artificial Intelligence\n",
    "\n",
    "# AI Programming (April 2021), Session 5\n",
    "\n",
    "# Topic: Non-linear regression and prediction"
   ]
  },
  {
   "cell_type": "markdown",
   "metadata": {},
   "source": [
    "In this notebook, we will cover a simple example of non-linear regression.\n",
    "\n",
    "We will first create an artificial example of data, where the relationship between the input x and the output y is non-linear.\n",
    "\n",
    "Then we will model the relationship with support vector machines (SVM). We will use a library implementation of SVM."
   ]
  },
  {
   "cell_type": "code",
   "execution_count": 1,
   "metadata": {},
   "outputs": [],
   "source": [
    "import numpy as np\n",
    "import pandas as pd\n",
    "import matplotlib.pyplot as plt"
   ]
  },
  {
   "cell_type": "code",
   "execution_count": 2,
   "metadata": {},
   "outputs": [],
   "source": [
    "from sklearn import datasets, linear_model\n",
    "from sklearn.metrics import mean_squared_error, r2_score\n",
    "from sklearn.model_selection import train_test_split\n",
    "\n",
    "from sklearn.svm import SVR # Library implementation of support vector machines"
   ]
  },
  {
   "cell_type": "code",
   "execution_count": 3,
   "metadata": {},
   "outputs": [],
   "source": [
    "# Create an artificial data set, with a non-linear relationship between x and y.\n",
    "x = np.sort(5 * np.random.rand(100, 1), axis=0)\n",
    "y = np.sin(x) + 0.2*np.random.rand(100,1) # some noise (uncertainty in measurements)\n",
    "y = y.ravel()"
   ]
  },
  {
   "cell_type": "code",
   "execution_count": 4,
   "metadata": {},
   "outputs": [
    {
     "data": {
      "text/plain": [
       "(100, 1)"
      ]
     },
     "execution_count": 4,
     "metadata": {},
     "output_type": "execute_result"
    }
   ],
   "source": [
    "x.shape"
   ]
  },
  {
   "cell_type": "code",
   "execution_count": 5,
   "metadata": {},
   "outputs": [
    {
     "data": {
      "text/plain": [
       "(100,)"
      ]
     },
     "execution_count": 5,
     "metadata": {},
     "output_type": "execute_result"
    }
   ],
   "source": [
    "y.shape"
   ]
  },
  {
   "cell_type": "code",
   "execution_count": 6,
   "metadata": {},
   "outputs": [
    {
     "data": {
      "text/plain": [
       "<matplotlib.collections.PathCollection at 0x7f85c802a690>"
      ]
     },
     "execution_count": 6,
     "metadata": {},
     "output_type": "execute_result"
    },
    {
     "data": {
      "image/png": "[encoded data removed]",
      "text/plain": [
       "<Figure size 432x288 with 1 Axes>"
      ]
     },
     "metadata": {
      "needs_background": "light"
     },
     "output_type": "display_data"
    }
   ],
   "source": [
    "plt.scatter(x,y)"
   ]
  },
  {
   "cell_type": "code",
   "execution_count": 7,
   "metadata": {},
   "outputs": [],
   "source": [
    "# Create a SVM model with the library implementation:\n",
    "svr_rbf_malli = SVR(kernel='rbf', C=100, gamma=0.1, epsilon=.1)\n",
    "svr_linear_malli = SVR(kernel='linear', C=100, gamma='auto')\n",
    "svr_polynomial_malli = SVR(kernel='poly', degree=3)\n",
    "svr_sigmoid_malli = SVR(kernel='sigmoid', gamma='auto', coef0=2)"
   ]
  },
  {
   "cell_type": "code",
   "execution_count": 8,
   "metadata": {},
   "outputs": [
    {
     "data": {
      "text/plain": [
       "SVR(C=1.0, cache_size=200, coef0=2, degree=3, epsilon=0.1, gamma='auto',\n",
       "    kernel='sigmoid', max_iter=-1, shrinking=True, tol=0.001, verbose=False)"
      ]
     },
     "execution_count": 8,
     "metadata": {},
     "output_type": "execute_result"
    }
   ],
   "source": [
    "# Fit the model with the data:\n",
    "svr_rbf_malli.fit(x,y)\n",
    "svr_linear_malli.fit(x,y)\n",
    "svr_polynomial_malli.fit(x,y)\n",
    "svr_sigmoid_malli.fit(x,y)"
   ]
  },
  {
   "cell_type": "code",
   "execution_count": 9,
   "metadata": {},
   "outputs": [
    {
     "name": "stdout",
     "output_type": "stream",
     "text": [
      "[ 0.14760721  0.19636797  0.22943881  0.25833708  0.27267226  0.31037827\n",
      "  0.32986942  0.34334133  0.35398206  0.42413684  0.51548897  0.55260818\n",
      "  0.71845672  0.72248445  0.76715853  0.7865785   0.79253402  0.88115489\n",
      "  0.90415637  1.00124689  1.00445098  1.04159132  1.06361994  1.0675495\n",
      "  1.07751185  1.08296507  1.09191719  1.09358293  1.09388386  1.10288852\n",
      "  1.10097632  1.09771545  1.09681342  1.09556669  1.09504606  1.08906827\n",
      "  1.08532953  1.07619549  1.07276749  1.04341637  0.98869887  0.98638756\n",
      "  0.85121382  0.76627768  0.75107067  0.71474833  0.70224786  0.69236682\n",
      "  0.69163057  0.64639654  0.56424197  0.46778429  0.4567271   0.45215105\n",
      "  0.41245812  0.40104147  0.37795651  0.27676107  0.26078947  0.24303907\n",
      "  0.17886696  0.13727254  0.11927256  0.09000393  0.062129    0.0210736\n",
      "  0.0187514  -0.08141534 -0.11446748 -0.21597187 -0.26829517 -0.37478693\n",
      " -0.3951737  -0.50188754 -0.50759236 -0.53698159 -0.5535206  -0.60524819\n",
      " -0.62786254 -0.63405124 -0.69966185 -0.70337502 -0.7442598  -0.76909249\n",
      " -0.77866151 -0.81841373 -0.82086422 -0.84173376 -0.85013686 -0.86771171\n",
      " -0.872809   -0.89425846 -0.89455748 -0.89629724 -0.90164405 -0.9052229\n",
      " -0.90733564 -0.90850755 -0.9081468  -0.89899659]\n",
      "[ 0.07731655  0.11212624  0.12937312  0.26022252  0.29006968  0.34450096\n",
      "  0.35555019  0.25544538  0.36764004  0.38053346  0.48844196  0.5109497\n",
      "  0.76396978  0.66630607  0.77479606  0.72710367  0.8619648   0.84018637\n",
      "  0.80376759  0.99488227  1.07893157  1.10391041  1.02769699  1.01231637\n",
      "  1.00580699  1.03566127  1.01496705  1.0805908   1.12318162  1.08734438\n",
      "  1.0218028   1.17300986  1.11704783  1.1844667   1.10445552  1.04103912\n",
      "  1.16653853  1.11951956  1.10424505  1.14368815  1.00880479  0.90911486\n",
      "  0.86330802  0.74641128  0.81045653  0.76584422  0.79735652  0.68964607\n",
      "  0.7208785   0.69124029  0.60025938  0.38351222  0.3858512   0.44989199\n",
      "  0.33477448  0.44602999  0.37742491  0.32810528  0.23039748  0.23043465\n",
      "  0.11442304  0.07859297  0.07478909  0.08906251  0.05884848  0.07973349\n",
      "  0.03850716 -0.16592229 -0.0486067  -0.23460052 -0.29460505 -0.2881676\n",
      " -0.44984523 -0.43252452 -0.60550126 -0.50080234 -0.64655837 -0.59513224\n",
      " -0.68390469 -0.64238531 -0.62304697 -0.66573121 -0.78488398 -0.86915828\n",
      " -0.82129583 -0.7874499  -0.88268351 -0.7649348  -0.93958557 -0.82539717\n",
      " -0.81552132 -0.87693109 -0.90973285 -0.89951065 -0.96418951 -0.88391671\n",
      " -0.94814562 -0.80825917 -0.98803322 -0.80625781]\n",
      "0.3228117906538028\n",
      "0.0032281179065380278\n"
     ]
    }
   ],
   "source": [
    "# Compute predictions for each model:\n",
    "\n",
    "y_pred_linear = svr_linear_malli.predict(x)\n",
    "y_pred_polynomial = svr_polynomial_malli.predict(x)\n",
    "y_pred_sigmoid = svr_sigmoid_malli.predict(x)\n",
    "\n",
    "\n",
    "svr_rbf_malli = SVR(kernel='rbf', C=100, gamma=0.1, epsilon=.1)\n",
    "svr_rbf_malli.fit(x,y)\n",
    "y_pred_rbf = svr_rbf_malli.predict(x)\n",
    "\n",
    "print(y_pred_rbf)\n",
    "print(y)\n",
    "\n",
    "# Sum of squares error (SSE):\n",
    "print(np.sum((y_pred_rbf - y)**2))\n",
    "\n",
    "# Mean squared error (MSE):\n",
    "print(np.mean((y_pred_rbf - y)**2))"
   ]
  },
  {
   "cell_type": "code",
   "execution_count": 10,
   "metadata": {},
   "outputs": [
    {
     "data": {
      "text/plain": [
       "<matplotlib.legend.Legend at 0x7f8618a18a50>"
      ]
     },
     "execution_count": 10,
     "metadata": {},
     "output_type": "execute_result"
    },
    {
     "data": {
      "image/png": "[encoded data removed]",
      "text/plain": [
       "<Figure size 432x288 with 1 Axes>"
      ]
     },
     "metadata": {
      "needs_background": "light"
     },
     "output_type": "display_data"
    }
   ],
   "source": [
    "# Data set as points, the prediction function as a line\n",
    "plt.scatter(x,y)\n",
    "line1, = plt.plot(x, y_pred_rbf, 'r', label='RBF') # Radial basis function kernel = red\n",
    "line2, = plt.plot(x, y_pred_linear, 'k-.', label='Linear') # Linear kernel black, dash dotted line\n",
    "line3, = plt.plot(x, y_pred_polynomial, 'g.', label='Polynomial') # Polynomial kernel, green dotted line\n",
    "line4, = plt.plot(x, y_pred_sigmoid, 'b-.', label='Sigmoid') # Sigmoid kernel, blue, dash dotted line\n",
    "plt.legend(handles=[line1, line2, line3, line4])\n"
   ]
  },
  {
   "cell_type": "markdown",
   "metadata": {},
   "source": [
    "Exercise 1. Implement non-linear regression for some other data set\n"
   ]
  },
  {
   "cell_type": "code",
   "execution_count": null,
   "metadata": {},
   "outputs": [],
   "source": []
  }
 ],
 "metadata": {
  "kernelspec": {
   "display_name": "Python 3",
   "language": "python",
   "name": "python3"
  },
  "language_info": {
   "codemirror_mode": {
    "name": "ipython",
    "version": 3
   },
   "file_extension": ".py",
   "mimetype": "text/x-python",
   "name": "python",
   "nbconvert_exporter": "python",
   "pygments_lexer": "ipython3",
   "version": "3.7.6"
  }
 },
 "nbformat": 4,
 "nbformat_minor": 2
}
