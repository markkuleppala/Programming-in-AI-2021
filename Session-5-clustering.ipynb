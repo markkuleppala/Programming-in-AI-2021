{
 "cells": [
  {
   "cell_type": "markdown",
   "metadata": {},
   "source": [
    "# Diploma in Artificial Intelligence\n",
    "\n",
    "# AI Programming (April 2021), Session 5\n",
    "\n",
    "# Topic: Clustering"
   ]
  },
  {
   "cell_type": "markdown",
   "metadata": {},
   "source": [
    "Load the health data in the file: THL_MyData2016_hackathon_dataset.xls\n",
    "    \n",
    "Select columns that have numeric values into a array. If you have a data frame called my_frame with variable names \"a\", \"b\", and \"c\", for instance, you can choose several columns by their names by accessing the columns:\n",
    "\n",
    "another_dataframe = my_frame[['a','b']]"
   ]
  },
  {
   "cell_type": "code",
   "execution_count": 1,
   "metadata": {},
   "outputs": [],
   "source": [
    "import pandas as pd"
   ]
  },
  {
   "cell_type": "code",
   "execution_count": 2,
   "metadata": {},
   "outputs": [],
   "source": [
    "health_data = pd.read_excel(\"THL_MyData2016_hackathon_dataset.xls\")"
   ]
  },
  {
   "cell_type": "code",
   "execution_count": 3,
   "metadata": {},
   "outputs": [
    {
     "data": {
      "text/plain": [
       "pandas.core.frame.DataFrame"
      ]
     },
     "execution_count": 3,
     "metadata": {},
     "output_type": "execute_result"
    }
   ],
   "source": [
    "type(health_data)"
   ]
  },
  {
   "cell_type": "code",
   "execution_count": 4,
   "metadata": {},
   "outputs": [
    {
     "data": {
      "text/plain": [
       "Index(['ikalk', 'sp', 'bmi', 'systbp2', 'diastbp2', 'kol', 'kol_hdl',\n",
       "       'Fx_plus', 'Fx'],\n",
       "      dtype='object')"
      ]
     },
     "execution_count": 4,
     "metadata": {},
     "output_type": "execute_result"
    }
   ],
   "source": [
    "health_data.columns"
   ]
  },
  {
   "cell_type": "code",
   "execution_count": 5,
   "metadata": {},
   "outputs": [],
   "source": [
    "numeric_health_data = health_data[['bmi','systbp2', 'diastbp2','kol','kol_hdl']]"
   ]
  },
  {
   "cell_type": "code",
   "execution_count": 6,
   "metadata": {},
   "outputs": [
    {
     "data": {
      "text/plain": [
       "pandas.core.frame.DataFrame"
      ]
     },
     "execution_count": 6,
     "metadata": {},
     "output_type": "execute_result"
    }
   ],
   "source": [
    "type(numeric_health_data)"
   ]
  },
  {
   "cell_type": "code",
   "execution_count": 7,
   "metadata": {},
   "outputs": [
    {
     "data": {
      "text/html": [
       "<div>\n",
       "<style scoped>\n",
       "    .dataframe tbody tr th:only-of-type {\n",
       "        vertical-align: middle;\n",
       "    }\n",
       "\n",
       "    .dataframe tbody tr th {\n",
       "        vertical-align: top;\n",
       "    }\n",
       "\n",
       "    .dataframe thead th {\n",
       "        text-align: right;\n",
       "    }\n",
       "</style>\n",
       "<table border=\"1\" class=\"dataframe\">\n",
       "  <thead>\n",
       "    <tr style=\"text-align: right;\">\n",
       "      <th></th>\n",
       "      <th>bmi</th>\n",
       "      <th>systbp2</th>\n",
       "      <th>diastbp2</th>\n",
       "      <th>kol</th>\n",
       "      <th>kol_hdl</th>\n",
       "    </tr>\n",
       "  </thead>\n",
       "  <tbody>\n",
       "    <tr>\n",
       "      <th>count</th>\n",
       "      <td>1188.000000</td>\n",
       "      <td>1188.000000</td>\n",
       "      <td>1188.000000</td>\n",
       "      <td>1188.000000</td>\n",
       "      <td>1188.000000</td>\n",
       "    </tr>\n",
       "    <tr>\n",
       "      <th>mean</th>\n",
       "      <td>27.109074</td>\n",
       "      <td>132.042912</td>\n",
       "      <td>78.334268</td>\n",
       "      <td>5.270606</td>\n",
       "      <td>1.482348</td>\n",
       "    </tr>\n",
       "    <tr>\n",
       "      <th>std</th>\n",
       "      <td>4.506711</td>\n",
       "      <td>17.805731</td>\n",
       "      <td>10.534951</td>\n",
       "      <td>0.995119</td>\n",
       "      <td>0.362748</td>\n",
       "    </tr>\n",
       "    <tr>\n",
       "      <th>min</th>\n",
       "      <td>16.530000</td>\n",
       "      <td>88.000000</td>\n",
       "      <td>45.770000</td>\n",
       "      <td>2.550000</td>\n",
       "      <td>0.700000</td>\n",
       "    </tr>\n",
       "    <tr>\n",
       "      <th>25%</th>\n",
       "      <td>23.940000</td>\n",
       "      <td>120.000000</td>\n",
       "      <td>72.000000</td>\n",
       "      <td>4.567500</td>\n",
       "      <td>1.220000</td>\n",
       "    </tr>\n",
       "    <tr>\n",
       "      <th>50%</th>\n",
       "      <td>26.540000</td>\n",
       "      <td>130.000000</td>\n",
       "      <td>78.000000</td>\n",
       "      <td>5.235000</td>\n",
       "      <td>1.440000</td>\n",
       "    </tr>\n",
       "    <tr>\n",
       "      <th>75%</th>\n",
       "      <td>29.707500</td>\n",
       "      <td>142.000000</td>\n",
       "      <td>86.000000</td>\n",
       "      <td>5.912500</td>\n",
       "      <td>1.710000</td>\n",
       "    </tr>\n",
       "    <tr>\n",
       "      <th>max</th>\n",
       "      <td>45.180000</td>\n",
       "      <td>200.630000</td>\n",
       "      <td>109.370000</td>\n",
       "      <td>8.830000</td>\n",
       "      <td>2.850000</td>\n",
       "    </tr>\n",
       "  </tbody>\n",
       "</table>\n",
       "</div>"
      ],
      "text/plain": [
       "               bmi      systbp2     diastbp2          kol      kol_hdl\n",
       "count  1188.000000  1188.000000  1188.000000  1188.000000  1188.000000\n",
       "mean     27.109074   132.042912    78.334268     5.270606     1.482348\n",
       "std       4.506711    17.805731    10.534951     0.995119     0.362748\n",
       "min      16.530000    88.000000    45.770000     2.550000     0.700000\n",
       "25%      23.940000   120.000000    72.000000     4.567500     1.220000\n",
       "50%      26.540000   130.000000    78.000000     5.235000     1.440000\n",
       "75%      29.707500   142.000000    86.000000     5.912500     1.710000\n",
       "max      45.180000   200.630000   109.370000     8.830000     2.850000"
      ]
     },
     "execution_count": 7,
     "metadata": {},
     "output_type": "execute_result"
    }
   ],
   "source": [
    "numeric_health_data.describe()"
   ]
  },
  {
   "cell_type": "markdown",
   "metadata": {},
   "source": [
    "Exercise 1. Create a clustering model from the numeric data that we have created. Use the k-means clustering algorithm, see the documentation in the https://scikit-learn.org/stable/modules/clustering.html page"
   ]
  },
  {
   "cell_type": "code",
   "execution_count": 8,
   "metadata": {},
   "outputs": [],
   "source": [
    "# Your solution here, some hints in the comments:\n",
    "\n",
    "# import the library function:\n",
    "# from ... import KMeans\n",
    "\n",
    "# number of clusters: \n",
    "# cl_model = .. number_of_cluster=4, \n",
    "\n",
    "# Plot results:\n",
    "# plt.plot(cl_model.cluster_centers_.T)\n"
   ]
  },
  {
   "cell_type": "code",
   "execution_count": null,
   "metadata": {},
   "outputs": [],
   "source": []
  }
 ],
 "metadata": {
  "kernelspec": {
   "display_name": "Python 3",
   "language": "python",
   "name": "python3"
  },
  "language_info": {
   "codemirror_mode": {
    "name": "ipython",
    "version": 3
   },
   "file_extension": ".py",
   "mimetype": "text/x-python",
   "name": "python",
   "nbconvert_exporter": "python",
   "pygments_lexer": "ipython3",
   "version": "3.7.6"
  }
 },
 "nbformat": 4,
 "nbformat_minor": 2
}
